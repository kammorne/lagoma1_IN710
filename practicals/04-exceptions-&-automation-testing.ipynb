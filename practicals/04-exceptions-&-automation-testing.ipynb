{
 "cells": [
  {
   "cell_type": "markdown",
   "metadata": {},
   "source": [
    "##### College of Engineering, Construction and Living Sciences<br>Bachelor of Information Technology<br>IN710: Object-Oriented Systems Development<br>Level 7, Credits 15<br><br>Deadline: Tuesday, 10 March at 5pm\n",
    "\n",
    "# Practical 04: Exceptions & Automation Testing\n",
    "\n",
    "In this practical, you will complete a series of tasks covering today's lecture. This practical is worth 1% of the final mark for the Object-Oriented Systems Development course."
   ]
  },
  {
   "cell_type": "code",
   "execution_count": null,
   "metadata": {},
   "outputs": [],
   "source": [
    "%config IPCompleter.greedy=True"
   ]
  },
  {
   "cell_type": "markdown",
   "metadata": {},
   "source": [
    "## Exceptions"
   ]
  },
  {
   "cell_type": "markdown",
   "metadata": {},
   "source": [
    "**Task 1:** Explain what causes an ```FloatingPointError``` exception to be raised."
   ]
  },
  {
   "cell_type": "code",
   "execution_count": null,
   "metadata": {},
   "outputs": [],
   "source": [
    "# The error occurs when dealing with a decimal number that has a recurring binary representation. When this binary number is converted back into decimal it is less than the original number e.g. 2.2 => 2.199999996"
   ]
  },
  {
   "cell_type": "markdown",
   "metadata": {},
   "source": [
    "**Task 2:** Explain what causes an ```ImportError``` exception to be raised."
   ]
  },
  {
   "cell_type": "code",
   "execution_count": null,
   "metadata": {},
   "outputs": [],
   "source": [
    "# The import error occurs when the import class fails to import a module. Commonly caused by an incorrect path."
   ]
  },
  {
   "cell_type": "markdown",
   "metadata": {},
   "source": [
    "**Task 3:** Explain what causes an ```OSError``` exception to be raised."
   ]
  },
  {
   "cell_type": "code",
   "execution_count": null,
   "metadata": {},
   "outputs": [],
   "source": [
    "# The OS error is raised when a function returns a system-related error."
   ]
  },
  {
   "cell_type": "markdown",
   "metadata": {},
   "source": [
    "**Task 4:** Explain what causes an ```OverflowError``` exception to be raised."
   ]
  },
  {
   "cell_type": "code",
   "execution_count": null,
   "metadata": {},
   "outputs": [],
   "source": [
    "# The overflow error occurs when a mathematical operation exceeds the Python runtime (e.g. a really really big number)."
   ]
  },
  {
   "cell_type": "markdown",
   "metadata": {},
   "source": [
    "## Automation Testing"
   ]
  },
  {
   "cell_type": "markdown",
   "metadata": {},
   "source": [
    "### Unit Testing\n",
    "**Task 5:** The ```Calculator``` class has one class attribute, one class property & seven class methods. For **each** method, create a unit test. Use the ```TestCalculator``` test case class provided to display the expected output."
   ]
  },
  {
   "cell_type": "code",
   "execution_count": 5,
   "metadata": {},
   "outputs": [
    {
     "name": "stderr",
     "output_type": "stream",
     "text": [
      "test_addition (__main__.TestCalculator) ... ok\n",
      "test_division (__main__.TestCalculator) ... ok\n",
      "test_maximum (__main__.TestCalculator) ... ok\n",
      "test_minimum (__main__.TestCalculator) ... ok\n",
      "test_modulo (__main__.TestCalculator) ... ok\n",
      "test_multiplication (__main__.TestCalculator) ... ok\n",
      "test_subtraction (__main__.TestCalculator) ... ok\n",
      "\n",
      "----------------------------------------------------------------------\n",
      "Ran 7 tests in 0.004s\n",
      "\n",
      "OK\n"
     ]
    }
   ],
   "source": [
    "from unittest import main, TestCase\n",
    "\n",
    "\n",
    "class Calculator():\n",
    "    def __init__(self):\n",
    "        self.ans = 0.0\n",
    "\n",
    "    @property\n",
    "    def answer(self):\n",
    "        return self.ans\n",
    "\n",
    "    def addition(self, num_1, num_2):\n",
    "        self.ans = num_1 + num_2\n",
    "        return self.answer\n",
    "\n",
    "    def subtraction(self, num_1, num_2):\n",
    "        self.ans = num_1 - num_2\n",
    "        return self.answer\n",
    "\n",
    "    def multiplication(self, num_1, num_2):\n",
    "        self.ans = num_1 * num_2\n",
    "        return self.answer\n",
    "\n",
    "    def division(self, num_1, num_2):\n",
    "        self.ans = num_1 * 1.0 / num_2\n",
    "        return self.answer\n",
    "\n",
    "    def modulo(self, num_1, num_2):\n",
    "        self.ans = num_1 % num_2\n",
    "        return self.answer\n",
    "\n",
    "    def minimum(self, num_1, num_2):\n",
    "        self.ans = num_1 if num_1 <= num_2 else num_2\n",
    "        return self.answer\n",
    "\n",
    "    def maximum(self, num_1, num_2):\n",
    "        self.ans = num_1 if num_1 >= num_2 else num_2\n",
    "        return self.answer\n",
    "\n",
    "\n",
    "class TestCalculator(TestCase):\n",
    "    def setUp(self):\n",
    "        self.calculator = Calculator()\n",
    "\n",
    "    def test_addition(self):\n",
    "        self.assertEqual(8, self.calculator.addition(2, 6))\n",
    "    \n",
    "    def test_division(self):\n",
    "        self.assertEqual(4, self.calculator.division(20, 5))\n",
    "    \n",
    "    def test_maximum(self):\n",
    "        self.assertEqual(54, self.calculator.maximum(36, 54))\n",
    "        \n",
    "    def test_minimum(self):\n",
    "        self.assertEqual(36, self.calculator.minimum(36, 54))\n",
    "        \n",
    "    def test_modulo(self):\n",
    "        self.assertEqual(0, self.calculator.modulo(10, 5))\n",
    "        \n",
    "    def test_multiplication(self):\n",
    "        self.assertEqual(64, self.calculator.multiplication(8, 8))\n",
    "        \n",
    "    def test_subtraction(self):\n",
    "        self.assertEqual(100, self.calculator.subtraction(150, 50))\n",
    "\n",
    "    def tearDown(self):\n",
    "        self.calculator = None\n",
    "\n",
    "\n",
    "if __name__ == '__main__':\n",
    "    main(argv=[''], verbosity=2, exit=False)\n",
    "    \n",
    "# Expected output:\n",
    "\n",
    "# test_addition (__main__.TestCalculator) ... ok\n",
    "# test_division (__main__.TestCalculator) ... ok\n",
    "# test_maximum (__main__.TestCalculator) ... ok\n",
    "# test_minimum (__main__.TestCalculator) ... ok\n",
    "# test_modulo (__main__.TestCalculator) ... ok\n",
    "# test_multiplication (__main__.TestCalculator) ... ok\n",
    "# test_subtraction (__main__.TestCalculator) ... ok"
   ]
  },
  {
   "cell_type": "markdown",
   "metadata": {},
   "source": [
    "**Task 6:** The ```Dog``` class has three class attributes & three class properties. For **each** property, create a unit test. Use the ```TestDog``` test case class provided to display the expected output."
   ]
  },
  {
   "cell_type": "code",
   "execution_count": 9,
   "metadata": {},
   "outputs": [
    {
     "name": "stderr",
     "output_type": "stream",
     "text": [
      "test_addition (__main__.TestCalculator) ... ok\n",
      "test_division (__main__.TestCalculator) ... ok\n",
      "test_maximum (__main__.TestCalculator) ... ok\n",
      "test_minimum (__main__.TestCalculator) ... ok\n",
      "test_modulo (__main__.TestCalculator) ... ok\n",
      "test_multiplication (__main__.TestCalculator) ... ok\n",
      "test_subtraction (__main__.TestCalculator) ... ok\n",
      "test_age (__main__.TestDog) ... ok\n",
      "test_breed (__main__.TestDog) ... ok\n",
      "test_color (__main__.TestDog) ... ok\n",
      "\n",
      "----------------------------------------------------------------------\n",
      "Ran 10 tests in 0.006s\n",
      "\n",
      "OK\n"
     ]
    }
   ],
   "source": [
    "from unittest import main, TestCase\n",
    "\n",
    "\n",
    "class Dog:\n",
    "    def __init__(self, breed, age, color):\n",
    "        self.__breed = breed\n",
    "        self.__age = age\n",
    "        self.__color = color\n",
    "\n",
    "    @property\n",
    "    def breed(self):\n",
    "        return self.__breed\n",
    "\n",
    "    @property\n",
    "    def age(self):\n",
    "        return self.__age\n",
    "\n",
    "    @property\n",
    "    def color(self):\n",
    "        return self.__color\n",
    "\n",
    "    @breed.setter\n",
    "    def breed(self, breed):\n",
    "        self.__breed = breed\n",
    "\n",
    "    @age.setter\n",
    "    def age(self, age):\n",
    "        self.__age = age\n",
    "\n",
    "    @color.setter\n",
    "    def color(self, color):\n",
    "        self.__color = color\n",
    "\n",
    "\n",
    "class TestDog(TestCase):\n",
    "    def setUp(self):\n",
    "        self.chihuahua = Dog('chihuahua', 1, 'white')\n",
    "        self.bulldog = Dog('bulldog', 5, 'brown')\n",
    "        self.chihuahua.color = 'black'\n",
    "\n",
    "    def test_age(self):\n",
    "        self.assertEqual(5, self.bulldog.age)\n",
    "    \n",
    "    def test_breed(self):\n",
    "        self.assertEqual('bulldog', self.bulldog.breed)\n",
    "        \n",
    "    def test_color(self):\n",
    "        self.assertEqual('brown', self.bulldog.color)\n",
    "\n",
    "    def tearDown(self):\n",
    "        self.chihuahua = None\n",
    "        self.bulldog = None\n",
    "\n",
    "\n",
    "if __name__ == '__main__':\n",
    "    main(argv=[''], verbosity=2, exit=False)\n",
    "\n",
    "# Expected output:\n",
    "\n",
    "# test_age (__main__.TestDog) ... ok\n",
    "# test_breed (__main__.TestDog) ... ok\n",
    "# test_color (__main__.TestDog) ... ok"
   ]
  },
  {
   "cell_type": "markdown",
   "metadata": {},
   "source": [
    "**Task 7:** The ```Stack``` class has one class attribute & five class methods. For **each** method, create a unit test. In addition, create a unit test that checks if a ```Stack``` is not empty. Use the ```TestStack``` test case class provided to display the expected output."
   ]
  },
  {
   "cell_type": "code",
   "execution_count": 13,
   "metadata": {},
   "outputs": [
    {
     "name": "stderr",
     "output_type": "stream",
     "text": [
      "test_addition (__main__.TestCalculator) ... ok\n",
      "test_division (__main__.TestCalculator) ... ok\n",
      "test_maximum (__main__.TestCalculator) ... ok\n",
      "test_minimum (__main__.TestCalculator) ... ok\n",
      "test_modulo (__main__.TestCalculator) ... ok\n",
      "test_multiplication (__main__.TestCalculator) ... ok\n",
      "test_subtraction (__main__.TestCalculator) ... ok\n",
      "test_age (__main__.TestDog) ... ok\n",
      "test_breed (__main__.TestDog) ... ok\n",
      "test_color (__main__.TestDog) ... ok\n",
      "test_stack_1_is_empty (__main__.TestStack) ... ok\n",
      "test_stack_2_display (__main__.TestStack) ... ok\n",
      "test_stack_2_is_empty (__main__.TestStack) ... ok\n",
      "test_stack_2_peek (__main__.TestStack) ... ok\n",
      "test_stack_2_pop (__main__.TestStack) ... ok\n",
      "\n",
      "----------------------------------------------------------------------\n",
      "Ran 15 tests in 0.008s\n",
      "\n",
      "OK\n"
     ]
    }
   ],
   "source": [
    "from unittest import main, TestCase\n",
    "\n",
    "\n",
    "class Stack():\n",
    "    def __init__(self):\n",
    "        self.stack = []\n",
    "\n",
    "    def is_empty(self):\n",
    "        return len(self.stack) < 1\n",
    "\n",
    "    def push(self, item):\n",
    "        self.stack.append(item)\n",
    "\n",
    "    def pop(self):\n",
    "        if not self.is_empty():\n",
    "            return self.stack.pop()\n",
    "\n",
    "    def peek(self):\n",
    "        if not self.is_empty():\n",
    "            return self.stack[-1]\n",
    "\n",
    "    def display(self):\n",
    "        if not self.is_empty():\n",
    "            return self.stack\n",
    "\n",
    "\n",
    "class TestStack(TestCase):\n",
    "    def setUp(self):\n",
    "        self.stack_1 = Stack()\n",
    "        self.stack_2 = Stack()\n",
    "        self.stack_2.push('Prog4')\n",
    "        self.stack_2.push('Web1')\n",
    "        self.stack_2.push('OOSD')\n",
    "        self.stack_2.pop()\n",
    "\n",
    "    # Write your tests here\n",
    "\n",
    "    def tearDown(self):\n",
    "        self.stack_1 = None\n",
    "        self.stack_2 = None\n",
    "\n",
    "    def test_stack_1_is_empty(self):\n",
    "        self.assertEqual(True, self.stack_1.is_empty())\n",
    "    \n",
    "    def test_stack_2_display(self):\n",
    "        self.assertEqual(['Prog4', 'Web1'], self.stack_2.display())\n",
    "        \n",
    "    def test_stack_2_is_empty(self):\n",
    "        self.assertEqual(False, self.stack_2.is_empty())\n",
    "        \n",
    "    def test_stack_2_peek(self):\n",
    "        self.assertEqual('Web1', self.stack_2.peek())\n",
    "        \n",
    "    def test_stack_2_pop(self):\n",
    "        self.assertEqual('Web1', self.stack_2.pop())\n",
    "\n",
    "if __name__ == '__main__':\n",
    "    main(argv=[''], verbosity=2, exit=False)\n",
    "\n",
    "# Expected output:\n",
    "\n",
    "# test_stack_1_is_empty (__main__.TestStack) ... ok\n",
    "# test_stack_2_display (__main__.TestStack) ... ok\n",
    "# test_stack_2_is_not_empty (__main__.TestStack) ... ok\n",
    "# test_stack_2_peek (__main__.TestStack) ... ok\n",
    "# test_stack_2_pop (__main__.TestStack) ... ok"
   ]
  },
  {
   "cell_type": "markdown",
   "metadata": {},
   "source": [
    "**Task 8:** The ```Queue``` class has one class attribute & five class methods. For **each** method, create a unit test. In addition, create a unit test that checks if a ```Queue``` is not empty. Use the ```TestQueue``` test case class provided to display the expected output."
   ]
  },
  {
   "cell_type": "code",
   "execution_count": 15,
   "metadata": {},
   "outputs": [
    {
     "name": "stderr",
     "output_type": "stream",
     "text": [
      "test_addition (__main__.TestCalculator) ... ok\n",
      "test_division (__main__.TestCalculator) ... ok\n",
      "test_maximum (__main__.TestCalculator) ... ok\n",
      "test_minimum (__main__.TestCalculator) ... ok\n",
      "test_modulo (__main__.TestCalculator) ... ok\n",
      "test_multiplication (__main__.TestCalculator) ... ok\n",
      "test_subtraction (__main__.TestCalculator) ... ok\n",
      "test_age (__main__.TestDog) ... ok\n",
      "test_breed (__main__.TestDog) ... ok\n",
      "test_color (__main__.TestDog) ... ok\n",
      "test_queue_1_is_empty (__main__.TestQueue) ... ok\n",
      "test_queue_2_dequeue (__main__.TestQueue) ... ok\n",
      "test_queue_2_display (__main__.TestQueue) ... ok\n",
      "test_queue_2_is_not_empty (__main__.TestQueue) ... ok\n",
      "test_queue_2_size (__main__.TestQueue) ... ok\n",
      "test_stack_1_is_empty (__main__.TestStack) ... ok\n",
      "test_stack_2_display (__main__.TestStack) ... ok\n",
      "test_stack_2_is_empty (__main__.TestStack) ... ok\n",
      "test_stack_2_peek (__main__.TestStack) ... ok\n",
      "test_stack_2_pop (__main__.TestStack) ... ok\n",
      "\n",
      "----------------------------------------------------------------------\n",
      "Ran 20 tests in 0.012s\n",
      "\n",
      "OK\n"
     ]
    }
   ],
   "source": [
    "from unittest import main, TestCase\n",
    "\n",
    "\n",
    "class Queue():\n",
    "    def __init__(self):\n",
    "        self.queue = []\n",
    "\n",
    "    def is_empty(self):\n",
    "        return len(self.queue) < 1\n",
    "\n",
    "    def enqueue(self, item):\n",
    "        self.queue.insert(0, item)\n",
    "\n",
    "    def dequeue(self):\n",
    "        if not self.is_empty():\n",
    "            return self.queue.pop()\n",
    "\n",
    "    def size(self):\n",
    "        return len(self.queue)\n",
    "\n",
    "    def display(self):\n",
    "        if not self.is_empty():\n",
    "            return self.queue\n",
    "\n",
    "\n",
    "class TestQueue(TestCase):\n",
    "    def setUp(self):\n",
    "        self.queue_1 = Queue()\n",
    "        self.queue_2 = Queue()\n",
    "        self.queue_2.enqueue('Prog4')\n",
    "        self.queue_2.enqueue('Web1')\n",
    "        self.queue_2.enqueue('OOSD')\n",
    "        self.queue_2.dequeue()\n",
    "\n",
    "    def test_queue_1_is_empty(self):\n",
    "        self.assertEqual(True, self.queue_1.is_empty())\n",
    "        \n",
    "    def test_queue_2_dequeue(self):\n",
    "        self.assertEqual('Web1', self.queue_2.dequeue())\n",
    "        \n",
    "    def test_queue_2_display(self):\n",
    "        self.assertEqual(['OOSD', 'Web1'], self.queue_2.display())\n",
    "        \n",
    "    def test_queue_2_is_not_empty(self):\n",
    "        self.assertEqual(False, self.queue_2.is_empty())\n",
    "        \n",
    "    def test_queue_2_size(self):\n",
    "        self.assertEqual(2, self.queue_2.size())\n",
    "\n",
    "    def tearDown(self):\n",
    "        self.queue_1 = None\n",
    "        self.queue_2 = None\n",
    "\n",
    "\n",
    "if __name__ == '__main__':\n",
    "    main(argv=[''], verbosity=2, exit=False)\n",
    "\n",
    "# Expected output:\n",
    "\n",
    "# test_queue_1_is_empty (__main__.TestQueue) ... ok\n",
    "# test_queue_2_dequeue (__main__.TestQueue) ... ok\n",
    "# test_queue_2_display (__main__.TestQueue) ... ok\n",
    "# test_queue_2_is_not_empty (__main__.TestQueue) ... ok\n",
    "# test_queue_2_size (__main__.TestQueue) ... ok"
   ]
  },
  {
   "cell_type": "markdown",
   "metadata": {},
   "source": [
    "### Integration Testing\n",
    "**Task 9:** Use the ```TestAPI``` test case class provided to test the following:\n",
    "* Check if the key ```Name``` equals ```Diamond```\n",
    "* Check if the key ```CanListClassifieds``` is false\n",
    "* Check if an object in the key ```Charities``` contains:\n",
    "    \n",
    "    * The key ```Description``` & the value ```Plunket```\n",
    "    * The key ```Tagline``` & value ```A major provider```. **Hint:** Use the ```in``` membership operator\n",
    "    \n",
    "Resource - https://2.python-requests.org/en/master/"
   ]
  },
  {
   "cell_type": "code",
   "execution_count": 39,
   "metadata": {},
   "outputs": [
    {
     "name": "stderr",
     "output_type": "stream",
     "text": [
      "test_can_list_classifieds_is_false (__main__.TestAPI) ... ok\n",
      "test_description_and_tagline (__main__.TestAPI) ... ok\n",
      "test_name_is_diamond (__main__.TestAPI) ... ok\n",
      "test_addition (__main__.TestCalculator) ... ok\n",
      "test_division (__main__.TestCalculator) ... ok\n",
      "test_maximum (__main__.TestCalculator) ... ok\n",
      "test_minimum (__main__.TestCalculator) ... ok\n",
      "test_modulo (__main__.TestCalculator) ... ok\n",
      "test_multiplication (__main__.TestCalculator) ... ok\n",
      "test_subtraction (__main__.TestCalculator) ... ok\n",
      "test_age (__main__.TestDog) ... ok\n",
      "test_breed (__main__.TestDog) ... ok\n",
      "test_color (__main__.TestDog) ... ok\n",
      "test_queue_1_is_empty (__main__.TestQueue) ... ok\n",
      "test_queue_2_dequeue (__main__.TestQueue) ... ok\n",
      "test_queue_2_display (__main__.TestQueue) ... ok\n",
      "test_queue_2_is_not_empty (__main__.TestQueue) ... ok\n",
      "test_queue_2_size (__main__.TestQueue) ... ok\n",
      "test_stack_1_is_empty (__main__.TestStack) ... ok\n",
      "test_stack_2_display (__main__.TestStack) ... ok\n",
      "test_stack_2_is_empty (__main__.TestStack) ... ok\n",
      "test_stack_2_peek (__main__.TestStack) ... ok\n",
      "test_stack_2_pop (__main__.TestStack) ... ok\n",
      "\n",
      "----------------------------------------------------------------------\n",
      "Ran 23 tests in 0.415s\n",
      "\n",
      "OK\n"
     ]
    }
   ],
   "source": [
    "from requests import get\n",
    "from unittest import main, TestCase\n",
    "\n",
    "\n",
    "class TestAPI(TestCase):\n",
    "    def setUp(self):\n",
    "        self.base_url = 'https://api.tmsandbox.co.nz/v1/Categories/4000/details.json'\n",
    "\n",
    "    def test_can_list_classifieds_is_false(self):\n",
    "        req = get(self.base_url)\n",
    "        self.assertEqual(req.json().get('CanListClassifieds'), False)\n",
    "        \n",
    "    def test_description_and_tagline(self):\n",
    "        req = get(self.base_url)\n",
    "        self.assertEqual(req.json().get('Charities')[1]['Description'], 'Plunket')\n",
    "        self.assertEqual(req.json().get('Charities')[1]['Tagline'], 'A major provider of well child health services in NZ.')\n",
    "        \n",
    "    def test_name_is_diamond(self):\n",
    "        req = get(self.base_url)\n",
    "        self.assertEqual(req.json().get('Name'), 'Diamond')\n",
    "\n",
    "    def tearDown(self):\n",
    "        self.base_url = None\n",
    "\n",
    "\n",
    "if __name__ == '__main__':\n",
    "    main(argv=[''], verbosity=2, exit=False)\n",
    "\n",
    "# Expected output:\n",
    "\n",
    "# test_can_list_classifieds_is_false (__main__.TestAPI) ... ok\n",
    "# test_description_and_tagline (__main__.TestAPI) ... ok\n",
    "# test_name_is_diamond (__main__.TestAPI) ... ok"
   ]
  },
  {
   "cell_type": "markdown",
   "metadata": {},
   "source": [
    "### End-To-End Testing\n",
    "**Task 10:** Use the ```TestStackOverflowSearch``` test case class and hints provided to display the expected output.\n",
    "\n",
    "Resource - https://selenium-python.readthedocs.io/"
   ]
  },
  {
   "cell_type": "code",
   "execution_count": 41,
   "metadata": {},
   "outputs": [
    {
     "name": "stdout",
     "output_type": "stream",
     "text": [
      "Collecting selenium\n",
      "  Downloading https://files.pythonhosted.org/packages/80/d6/4294f0b4bce4de0abf13e17190289f9d0613b0a44e5dd6a7f5ca98459853/selenium-3.141.0-py2.py3-none-any.whl (904kB)\n",
      "Requirement already satisfied: urllib3 in c:\\programdata\\anaconda3\\lib\\site-packages (from selenium) (1.24.2)\n",
      "Installing collected packages: selenium\n",
      "Successfully installed selenium-3.141.0\n",
      "Note: you may need to restart the kernel to use updated packages.\n"
     ]
    }
   ],
   "source": [
    "pip install selenium"
   ]
  },
  {
   "cell_type": "code",
   "execution_count": 43,
   "metadata": {},
   "outputs": [
    {
     "name": "stderr",
     "output_type": "stream",
     "text": [
      "test_can_list_classifieds_is_false (__main__.TestAPI) ... ok\n",
      "test_description_and_tagline (__main__.TestAPI) ... ok\n",
      "test_name_is_diamond (__main__.TestAPI) ... ok\n",
      "test_addition (__main__.TestCalculator) ... ok\n",
      "test_division (__main__.TestCalculator) ... ok\n",
      "test_maximum (__main__.TestCalculator) ... ok\n",
      "test_minimum (__main__.TestCalculator) ... ok\n",
      "test_modulo (__main__.TestCalculator) ... ok\n",
      "test_multiplication (__main__.TestCalculator) ... ok\n",
      "test_subtraction (__main__.TestCalculator) ... ok\n",
      "test_age (__main__.TestDog) ... ok\n",
      "test_breed (__main__.TestDog) ... ok\n",
      "test_color (__main__.TestDog) ... ok\n",
      "test_queue_1_is_empty (__main__.TestQueue) ... ok\n",
      "test_queue_2_dequeue (__main__.TestQueue) ... ok\n",
      "test_queue_2_display (__main__.TestQueue) ... ok\n",
      "test_queue_2_is_not_empty (__main__.TestQueue) ... ok\n",
      "test_queue_2_size (__main__.TestQueue) ... ok\n",
      "test_stack_1_is_empty (__main__.TestStack) ... ok\n",
      "test_stack_2_display (__main__.TestStack) ... ok\n",
      "test_stack_2_is_empty (__main__.TestStack) ... ok\n",
      "test_stack_2_peek (__main__.TestStack) ... ok\n",
      "test_stack_2_pop (__main__.TestStack) ... ok\n",
      "test_search_in_stack_overflow (__main__.TestStackOverflowSearch) ... ERROR\n",
      "\n",
      "======================================================================\n",
      "ERROR: test_search_in_stack_overflow (__main__.TestStackOverflowSearch)\n",
      "----------------------------------------------------------------------\n",
      "Traceback (most recent call last):\n",
      "  File \"C:\\ProgramData\\Anaconda3\\lib\\site-packages\\selenium\\webdriver\\common\\service.py\", line 76, in start\n",
      "    stdin=PIPE)\n",
      "  File \"C:\\ProgramData\\Anaconda3\\lib\\subprocess.py\", line 775, in __init__\n",
      "    restore_signals, start_new_session)\n",
      "  File \"C:\\ProgramData\\Anaconda3\\lib\\subprocess.py\", line 1178, in _execute_child\n",
      "    startupinfo)\n",
      "FileNotFoundError: [WinError 2] The system cannot find the file specified\n",
      "\n",
      "During handling of the above exception, another exception occurred:\n",
      "\n",
      "Traceback (most recent call last):\n",
      "  File \"<ipython-input-43-0096da0a5bec>\", line 9, in setUp\n",
      "    './chromedriver/chromedriver_mac')\n",
      "  File \"C:\\ProgramData\\Anaconda3\\lib\\site-packages\\selenium\\webdriver\\chrome\\webdriver.py\", line 73, in __init__\n",
      "    self.service.start()\n",
      "  File \"C:\\ProgramData\\Anaconda3\\lib\\site-packages\\selenium\\webdriver\\common\\service.py\", line 83, in start\n",
      "    os.path.basename(self.path), self.start_error_message)\n",
      "selenium.common.exceptions.WebDriverException: Message: 'chromedriver_mac' executable needs to be in PATH. Please see https://sites.google.com/a/chromium.org/chromedriver/home\n",
      "\n",
      "\n",
      "----------------------------------------------------------------------\n",
      "Ran 24 tests in 0.403s\n",
      "\n",
      "FAILED (errors=1)\n"
     ]
    }
   ],
   "source": [
    "from selenium import webdriver\n",
    "from selenium.webdriver.common.keys import Keys\n",
    "from unittest import main, TestCase\n",
    "\n",
    "\n",
    "class TestStackOverflowSearch(TestCase):\n",
    "    def setUp(self):\n",
    "        self.driver = webdriver.Chrome(\n",
    "            './chromedriver/chromedriver_mac')\n",
    "        # Navigate to https://stackoverflow.com/\n",
    "        self.base_url = 'https://stackoverflow.com/'\n",
    "\n",
    "    def test_search_in_stack_overflow(self):\n",
    "        # Test if 'Stack Overflow - Where Developers Learn, Share, & Build Careers' is in the title\n",
    "        self.assertEqual(True, 'Stack Overflow - Where Developers Learn, Share, & Build Careers' in driver.title)\n",
    "        # Find the element by the following CSS selector - '#search > div > input'\n",
    "        # Type 'Rust' into the element\n",
    "        # Press the enter/return key\n",
    "        # Test if 'Search Results' is in the page source\n",
    "\n",
    "    def tearDown(self):\n",
    "        self.driver.close()\n",
    "\n",
    "\n",
    "if __name__ == '__main__':\n",
    "    main(argv=[''], verbosity=2, exit=False)\n",
    "\n",
    "# Expected output:\n",
    "\n",
    "# test_search_in_stack_overflow (__main__.TestStackOverflowSearch) ... ok"
   ]
  },
  {
   "cell_type": "code",
   "execution_count": null,
   "metadata": {},
   "outputs": [],
   "source": []
  },
  {
   "cell_type": "markdown",
   "metadata": {},
   "source": [
    "# Submission\n",
    "1. Create a new branch named 04-checkpoint within your practicals GitHub repository\n",
    "2. Create a new pull request and assign Grayson-Orr to review your submission\n",
    "\n",
    "**Note:** Please don't merge your own pull request."
   ]
  }
 ],
 "metadata": {
  "kernelspec": {
   "display_name": "Python 3",
   "language": "python",
   "name": "python3"
  },
  "language_info": {
   "codemirror_mode": {
    "name": "ipython",
    "version": 3
   },
   "file_extension": ".py",
   "mimetype": "text/x-python",
   "name": "python",
   "nbconvert_exporter": "python",
   "pygments_lexer": "ipython3",
   "version": "3.7.4"
  }
 },
 "nbformat": 4,
 "nbformat_minor": 2
}
