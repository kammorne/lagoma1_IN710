{
 "cells": [
  {
   "cell_type": "markdown",
   "metadata": {},
   "source": [
    "##### College of Engineering, Construction and Living Sciences<br>Bachelor of Information Technology<br>IN710: Object-Oriented Systems Development<br>Level 7, Credits 15<br><br>Deadline: Tuesday, 3 March at 5pm\n",
    "\n",
    "# Practical 02: Python 2\n",
    "\n",
    "In this practical, you will complete a series of tasks covering today's lecture. This practical is worth 1% of the final mark for the Object-Oriented Systems Development course."
   ]
  },
  {
   "cell_type": "code",
   "execution_count": 1,
   "metadata": {},
   "outputs": [],
   "source": [
    "%config IPCompleter.greedy=True"
   ]
  },
  {
   "cell_type": "markdown",
   "metadata": {},
   "source": [
    "## Functional Programming "
   ]
  },
  {
   "cell_type": "markdown",
   "metadata": {},
   "source": [
    "### Map\n",
    "**Task 1:** Using the ```uuid4``` method, generate a random UUID called ```rand_uuid```. Use ```rand_uuid``` & ```map``` function to return an uppercase ```rand_uuid```. **Note:** your outputs will be different to what is shown below."
   ]
  },
  {
   "cell_type": "code",
   "execution_count": 1,
   "metadata": {},
   "outputs": [
    {
     "name": "stdout",
     "output_type": "stream",
     "text": [
      "Random UUID: 4fa270e5-7560-4c4c-8ed4-1749f56df1ee\n",
      "Uppercase random UUID: 4FA270E5-7560-4C4C-8ED4-1749F56DF1EE\n"
     ]
    }
   ],
   "source": [
    "from uuid import uuid4\n",
    "\n",
    "# Write your expected output solution here\n",
    "\n",
    "rand_uuid = str(uuid4())\n",
    "upper_rand_uuid = ''.join(map(str.upper, rand_uuid))\n",
    "print(f'Random UUID: {rand_uuid}')\n",
    "print(f'Uppercase random UUID: {upper_rand_uuid}')\n",
    "\n",
    "# Expected output:\n",
    "\n",
    "# Random UUID: 58a641f1-ac6a-4a5d-ab31-302af8b2dfc4\n",
    "# Uppercase random UUID: 58A641F1-AC6A-4A5D-AB31-302AF8B2DFC4"
   ]
  },
  {
   "cell_type": "markdown",
   "metadata": {},
   "source": [
    "### Filter\n",
    "**Task 2:** Using the ```randrange``` method, create a list comprehension called ```exam_scores``` that generates 10 numbers between 1 & 100. Use ```exam_scores``` & ```filter``` function to return all items ≥ 80. **Note:** your outputs will be different to what is shown below."
   ]
  },
  {
   "cell_type": "code",
   "execution_count": 8,
   "metadata": {},
   "outputs": [
    {
     "name": "stdout",
     "output_type": "stream",
     "text": [
      "Exam scores: [86, 92, 66, 85, 43, 82, 47, 49, 57, 10]\n",
      "A grade range exam scores: [86, 92, 85, 82]\n"
     ]
    }
   ],
   "source": [
    "from random import randrange\n",
    "\n",
    "# Write your expected output solution here\n",
    "def filterScores(score):\n",
    "  if score < 80:\n",
    "    return False\n",
    "  else:\n",
    "    return True\n",
    "\n",
    "exam_scores = [randrange(0,100) for i in range(0, 10)]\n",
    "a_grade_range_exam_scores = filter(filterScores, exam_scores)\n",
    "print(f'Exam scores: {exam_scores}')\n",
    "print(f'A grade range exam scores: {list(a_grade_range_exam_scores)}')\n",
    "\n",
    "# Expected output:\n",
    "\n",
    "# Exam scores: [52, 51, 82, 11, 16, 19, 10, 91, 59, 58]\n",
    "# A grade range exam scores: [82, 91]"
   ]
  },
  {
   "cell_type": "markdown",
   "metadata": {},
   "source": [
    "### Reduce\n",
    "**Task 3:** Using the ```randrange``` method, create a list comprehension called ```rand_nums``` that generates 5 numbers between 1 & 100. Use ```rand_nums``` & ```reduce``` method to return the sum of ```rand_nums```. **Note:** your outputs will be different to what is shown below."
   ]
  },
  {
   "cell_type": "code",
   "execution_count": 7,
   "metadata": {},
   "outputs": [
    {
     "name": "stdout",
     "output_type": "stream",
     "text": [
      "Random numbers: [62, 71, 69, 72, 13]\n",
      "Sum of random numbers: 287\n"
     ]
    }
   ],
   "source": [
    "from functools import reduce\n",
    "from random import randrange\n",
    "\n",
    "# Write your expected output solution here\n",
    "def sum(n1, n2):\n",
    "    return n1 + n2\n",
    "\n",
    "rand_nums = [randrange(0,100) for i in range(0, 5)]\n",
    "sum_rand_nums = reduce(sum, rand_nums)\n",
    "print(f'Random numbers: {rand_nums}')\n",
    "print(f'Sum of random numbers: {sum_rand_nums}') \n",
    "\n",
    "# Expected output:\n",
    "\n",
    "# Random numbers: [25, 65, 75, 9, 57]\n",
    "# Sum of random numbers: 231"
   ]
  },
  {
   "cell_type": "markdown",
   "metadata": {},
   "source": [
    "### Iterators\n",
    "**Task 4:** Implement the ```init```, ```iter``` & ```next``` special methods in the ```SquareRoot``` iterator class. Use the ```SquareRoot``` object provided in the main function to display the expected output. "
   ]
  },
  {
   "cell_type": "code",
   "execution_count": 28,
   "metadata": {},
   "outputs": [
    {
     "name": "stdout",
     "output_type": "stream",
     "text": [
      "0.00\n",
      "1.00\n",
      "1.41\n",
      "1.73\n",
      "2.00\n",
      "2.24\n"
     ]
    }
   ],
   "source": [
    "from math import sqrt\n",
    "\n",
    "\n",
    "class SquareRoot:\n",
    "    def __init__(self, min, max):\n",
    "        self.min = min\n",
    "        self.max = max\n",
    "\n",
    "    def __iter__(self):\n",
    "        return self\n",
    "\n",
    "    def __next__(self):\n",
    "        # Check if min is ≤ to max\n",
    "        if(self.min <= self.max):\n",
    "            # Square root min and round the result to two decimal places\n",
    "            square_root = sqrt(self.min)\n",
    "            result = \"{:.2f}\".format(square_root)\n",
    "            # Increment min by 1\n",
    "            self.min = self.min + 1\n",
    "            # Return the result\n",
    "            return result\n",
    "        # If min is not ≤ to max\n",
    "        else:\n",
    "            # Raise the StopIteration exception\n",
    "            raise StopIteration('StopIteration:')\n",
    "            \n",
    "\n",
    "\n",
    "def main():\n",
    "    sqrt_nums = SquareRoot(0, 5)\n",
    "    sqrt_nums_iter = sqrt_nums.__iter__()\n",
    "\n",
    "    # Write your expected output solution here\n",
    "    for i in sqrt_nums:\n",
    "        print (i)\n",
    "\n",
    "if __name__ == '__main__':\n",
    "    main()\n",
    "\n",
    "# Expected output:\n",
    "\n",
    "# 0.0\n",
    "# 1.0\n",
    "# 1.41\n",
    "# 1.73\n",
    "# 2.0\n",
    "# 2.24\n",
    "# StopIteration:"
   ]
  },
  {
   "cell_type": "markdown",
   "metadata": {},
   "source": [
    "**Task 5:** Implement the ```iter``` & ```next``` special methods in the ```Sentence``` iterator class. Use the ```Sentence``` object provided in the main function to display the expected output. "
   ]
  },
  {
   "cell_type": "code",
   "execution_count": 35,
   "metadata": {},
   "outputs": [
    {
     "name": "stdout",
     "output_type": "stream",
     "text": [
      "He\n",
      "was\n",
      "a\n",
      "spunky\n",
      "hanky-panky\n",
      "cranky\n",
      "stinky-dinky\n",
      "lanky\n",
      "honky-tonky\n",
      "winky\n",
      "wonky\n",
      "donkey!\n"
     ]
    }
   ],
   "source": [
    "class Sentence:\n",
    "    def __init__(self, sentence):\n",
    "        self.sentence = sentence\n",
    "        self.idx = 0\n",
    "        self.words = self.sentence.split()\n",
    "\n",
    "    def __iter__(self):\n",
    "        return self\n",
    "\n",
    "    def __next__(self):\n",
    "        # Check if idx is ≥ to the length of words\n",
    "        if(self.idx > len(self.words)-1):\n",
    "            # Raise the StopIteration exception\n",
    "            raise StopIteration(\"StopIteration:\")\n",
    "        # If idx is not ≥ to the length of words\n",
    "        else:\n",
    "            # Index into the words using idx\n",
    "            result = self.words[self.idx]\n",
    "            # Increment idx by 1\n",
    "            self.idx = self.idx + 1\n",
    "            # Return the result\n",
    "            return result\n",
    "\n",
    "\n",
    "def main():\n",
    "    sentence = Sentence(\n",
    "        'He was a spunky hanky-panky cranky stinky-dinky lanky honky-tonky winky wonky donkey!')\n",
    "    sentence_iter = sentence.__iter__()\n",
    "\n",
    "    # Write your expected output solution here\n",
    "    for i in sentence:\n",
    "        print (i)\n",
    "\n",
    "if __name__ == '__main__':\n",
    "    main()\n",
    "\n",
    "# Expected output:\n",
    "\n",
    "# He\n",
    "# was\n",
    "# a\n",
    "# spunky\n",
    "# hanky-panky\n",
    "# cranky\n",
    "# stinky-dinky\n",
    "# lanky\n",
    "# honky-tonky\n",
    "# winky\n",
    "# wonky\n",
    "# donkey!\n",
    "# StopIteration:"
   ]
  },
  {
   "cell_type": "markdown",
   "metadata": {},
   "source": [
    "### Generators\n",
    "**Task 6:** Convert the following function ```square_numbers``` into a generator. Use the generator to display the expected output."
   ]
  },
  {
   "cell_type": "code",
   "execution_count": 40,
   "metadata": {},
   "outputs": [
    {
     "name": "stdout",
     "output_type": "stream",
     "text": [
      "1\n",
      "4\n",
      "9\n",
      "16\n",
      "25\n"
     ]
    }
   ],
   "source": [
    "class SquareNumbers:\n",
    "    def __init__(self, nums):\n",
    "        self.nums = nums\n",
    "        self.min = 0\n",
    "        \n",
    "    def __iter__(self):\n",
    "        return self\n",
    "    \n",
    "    def __next__(self):\n",
    "        if(self.min > len(self.nums)-1):\n",
    "            raise StopIteration(\"StopIteration:\")\n",
    "        else:\n",
    "            output = (self.nums[self.min] ** 2)\n",
    "            self.min = self.min + 1\n",
    "            return output\n",
    "    \n",
    "\n",
    "\n",
    "nums_1 = SquareNumbers([1, 2, 3, 4, 5])\n",
    "\n",
    "# Write your expected output solution here\n",
    "for n in nums_1:\n",
    "    print (n)\n",
    "\n",
    "\n",
    "# Expected output:\n",
    "# 1\n",
    "# 4\n",
    "# 9\n",
    "# 16\n",
    "# 25\n",
    "# StopIteration:"
   ]
  },
  {
   "cell_type": "markdown",
   "metadata": {},
   "source": [
    "**Task 7:** Convert the following function ```halve_numbers``` into a generator. Use the generator to display the expected output."
   ]
  },
  {
   "cell_type": "code",
   "execution_count": 49,
   "metadata": {},
   "outputs": [
    {
     "name": "stdout",
     "output_type": "stream",
     "text": [
      "0.5\n",
      "1.0\n",
      "1.5\n",
      "2.0\n",
      "2.5\n"
     ]
    }
   ],
   "source": [
    "class halve_numbers:\n",
    "    def __init__(self, nums):\n",
    "        self.nums = nums\n",
    "        self.min = 0\n",
    "        \n",
    "    def __iter__(self):\n",
    "        return self\n",
    "    \n",
    "    def __next__(self):\n",
    "        if(self.min > len(self.nums)-1):\n",
    "            raise StopIteration\n",
    "        else:\n",
    "            output = (self.nums[self.min] / 2)\n",
    "            self.min = self.min + 1\n",
    "            return output\n",
    "\n",
    "\n",
    "nums_1 = halve_numbers([1, 2, 3, 4, 5])\n",
    "\n",
    "# Write your expected output solution here\n",
    "for n in nums_1:\n",
    "    print (n)\n",
    "\n",
    "# Expected output:\n",
    "\n",
    "# 0.5\n",
    "# 1.0\n",
    "# 1.5"
   ]
  },
  {
   "cell_type": "markdown",
   "metadata": {},
   "source": [
    "**Task 8:** Convert the following function ```random_people``` into a generator. Use the generator to display the expected output. **Note:** your outputs will be different to what is shown below."
   ]
  },
  {
   "cell_type": "code",
   "execution_count": 50,
   "metadata": {},
   "outputs": [
    {
     "name": "stdout",
     "output_type": "stream",
     "text": [
      "{'id': 0, 'first_name': 'Janelle', 'last_names': 'Terry', 'nationality': 'New Zealand'}\n",
      "{'id': 1, 'first_name': 'Tre', 'last_names': 'Clarke', 'nationality': 'New Zealand'}\n"
     ]
    }
   ],
   "source": [
    "from random import choice\n",
    "\n",
    "first_names = ['Chelsea', 'Janelle', 'Tre']\n",
    "last_names = ['Clarke', 'Day', 'Terry']\n",
    "nationality = ['Australia', 'England', 'New Zealand']\n",
    "\n",
    "\n",
    "class random_people:\n",
    "    def __init__(self, max):\n",
    "        self.min = 0\n",
    "        self.max = max\n",
    "        \n",
    "    def __iter__(self):\n",
    "        return self\n",
    "    \n",
    "    def __next__(self):\n",
    "        if(self.min > self.max-1):\n",
    "            raise StopIteration\n",
    "        else:\n",
    "            person = {\n",
    "            'id': self.min,\n",
    "            'first_name': choice(first_names),\n",
    "            'last_names': choice(last_names),\n",
    "            'nationality': choice(nationality)\n",
    "            }\n",
    "            output = person\n",
    "            self.min = self.min + 1\n",
    "            return output\n",
    "\n",
    "\n",
    "rnd_ppl = random_people(2)\n",
    "\n",
    "# Write your expected output solution here\n",
    "for p in rnd_ppl:\n",
    "    print (p)\n",
    "\n",
    "# Expected output:\n",
    "\n",
    "# {'id': 0, 'first_name': 'Tre', 'last_names': 'Clarke', 'nationality': 'Australia'}\n",
    "# {'id': 1, 'first_name': 'Chelsea', 'last_names': 'Terry', 'nationality': 'New Zealand'}"
   ]
  },
  {
   "cell_type": "markdown",
   "metadata": {},
   "source": [
    "**Task 9:** Create a function called ```fizz_buzz``` that yields the numbers between 15 & 20. However, for numbers that are multiples of three, yield **Fizz**, for numbers that are multiples of five, yield **Buzz** & for numbers that are multiples of three & five, yield **FizzBuzz**. Use the ```fizz_buzz``` function to display the expected output."
   ]
  },
  {
   "cell_type": "code",
   "execution_count": 69,
   "metadata": {},
   "outputs": [
    {
     "name": "stdout",
     "output_type": "stream",
     "text": [
      "FizzBuzz\n",
      "16\n",
      "17\n",
      "Fizz\n",
      "19\n",
      "Buzz\n"
     ]
    }
   ],
   "source": [
    "# Write your expected output solution here\n",
    "def fizz_buzz(nums):\n",
    "    for n in nums:\n",
    "        if(n % 5 == 0 and n % 3 == 0):\n",
    "            print(\"FizzBuzz\")\n",
    "        elif(n % 5 == 0):\n",
    "            print(\"Buzz\")\n",
    "        elif(n % 3 == 0):\n",
    "            print(\"Fizz\")\n",
    "        else:\n",
    "            print(n)\n",
    "\n",
    "nums_1 = [15,16,17,18,19,20]\n",
    "fizz_buzz(nums_1)\n",
    "\n",
    "# Expected output:\n",
    "\n",
    "# FizzBuzz\n",
    "# 16\n",
    "# 17\n",
    "# Fizz\n",
    "# 19\n",
    "# Buzz"
   ]
  },
  {
   "cell_type": "markdown",
   "metadata": {},
   "source": [
    "## Context Managers\n",
    "**Task 10:** Implement the ```iter```, ```enter``` & ```exit``` special methods in the ```File``` context manager class. Use the ```with``` statement & ```File``` object provided in the main function to display the expected output. **Note:** To display the expected output, execute the ```%run``` magic command. Click [here](https://ipython.readthedocs.io/en/stable/interactive/magics.html#magic-run) to view the documentation."
   ]
  },
  {
   "cell_type": "code",
   "execution_count": 74,
   "metadata": {},
   "outputs": [],
   "source": [
    "class File():\n",
    "    def __init__(self, filename, mode):\n",
    "        # Declare & initialise a file object\n",
    "        self.filename = filename\n",
    "        self.mode = mode\n",
    "\n",
    "    def __enter__(self):\n",
    "        # Return the file object\n",
    "        self.open_file = open(self.filename, self.mode)\n",
    "        return self.open_file\n",
    "\n",
    "    def __exit__(self, type, value, traceback):\n",
    "        # Close the file object\n",
    "        self.open_file.close()\n",
    "\n",
    "\n",
    "def main():\n",
    "    # Write your expected output solution here\n",
    "    with File('hello-world.py', 'w') as f:\n",
    "        %run hello-world\n",
    "\n",
    "if __name__ == '__main__':\n",
    "    main()\n",
    "\n",
    "# Expected output:\n",
    "\n",
    "# Hello World\n",
    "\n",
    "# Python file called 'hello-world.py'. Should contain the following line of code - print('Hello World')."
   ]
  },
  {
   "cell_type": "markdown",
   "metadata": {},
   "source": [
    "## Other In-Built Functions"
   ]
  },
  {
   "cell_type": "markdown",
   "metadata": {},
   "source": [
    "### Enumerate\n",
    "**Task 11:** Use the ```enumerate``` function to display the expected output."
   ]
  },
  {
   "cell_type": "code",
   "execution_count": 27,
   "metadata": {},
   "outputs": [
    {
     "name": "stdout",
     "output_type": "stream",
     "text": [
      "Item 1: hanger\n",
      "Item 2: clay pot\n",
      "Item 3: lace\n",
      "Item 4: charger\n",
      "Item 5: deodorant\n",
      "Item 6: credit card\n"
     ]
    }
   ],
   "source": [
    "random_things = ['hanger', 'clay pot', 'lace',\n",
    "                 'charger', 'deodorant', 'credit card']\n",
    "\n",
    "# Write your expected output solution here\n",
    "items = list(enumerate(random_things, 1))\n",
    "\n",
    "for i,j in items:\n",
    "    print(f\"Item {i}: {j}\")\n",
    "\n",
    "\n",
    "# Expected output:\n",
    "\n",
    "# Item 1: hanger\n",
    "# Item 2: clay pot\n",
    "# Item 3: lace\n",
    "# Item 4: charger\n",
    "# Item 5: deodorant\n",
    "# Item 6: credit card"
   ]
  },
  {
   "cell_type": "markdown",
   "metadata": {},
   "source": [
    "### Reversed\n",
    "**Task 12:** Use the ```reversed``` function to display the expected output."
   ]
  },
  {
   "cell_type": "code",
   "execution_count": 47,
   "metadata": {},
   "outputs": [
    {
     "ename": "TypeError",
     "evalue": "'reversed' object is not callable",
     "output_type": "error",
     "traceback": [
      "\u001b[1;31m---------------------------------------------------------------------------\u001b[0m",
      "\u001b[1;31mTypeError\u001b[0m                                 Traceback (most recent call last)",
      "\u001b[1;32m<ipython-input-47-218e1af454e6>\u001b[0m in \u001b[0;36m<module>\u001b[1;34m\u001b[0m\n\u001b[0;32m      3\u001b[0m \u001b[1;31m# Write your expected output solution here\u001b[0m\u001b[1;33m\u001b[0m\u001b[1;33m\u001b[0m\u001b[1;33m\u001b[0m\u001b[0m\n\u001b[0;32m      4\u001b[0m \u001b[0mwords\u001b[0m \u001b[1;33m=\u001b[0m \u001b[0msentence\u001b[0m\u001b[1;33m.\u001b[0m\u001b[0msplit\u001b[0m\u001b[1;33m(\u001b[0m\u001b[1;34m\" \"\u001b[0m\u001b[1;33m)\u001b[0m\u001b[1;33m\u001b[0m\u001b[1;33m\u001b[0m\u001b[0m\n\u001b[1;32m----> 5\u001b[1;33m \u001b[0mreverse\u001b[0m \u001b[1;33m=\u001b[0m \u001b[0mreversed\u001b[0m\u001b[1;33m(\u001b[0m\u001b[0mwords\u001b[0m\u001b[1;33m)\u001b[0m\u001b[1;33m\u001b[0m\u001b[1;33m\u001b[0m\u001b[0m\n\u001b[0m\u001b[0;32m      6\u001b[0m \u001b[1;32mfor\u001b[0m \u001b[0mr\u001b[0m \u001b[1;32min\u001b[0m \u001b[0mreverse\u001b[0m\u001b[1;33m:\u001b[0m\u001b[1;33m\u001b[0m\u001b[1;33m\u001b[0m\u001b[0m\n\u001b[0;32m      7\u001b[0m     \u001b[0mprint\u001b[0m\u001b[1;33m(\u001b[0m\u001b[0mr\u001b[0m\u001b[1;33m)\u001b[0m\u001b[1;33m\u001b[0m\u001b[1;33m\u001b[0m\u001b[0m\n",
      "\u001b[1;31mTypeError\u001b[0m: 'reversed' object is not callable"
     ]
    }
   ],
   "source": [
    "sentence = \"Hello my name is John Doe\"\n",
    "\n",
    "# Write your expected output solution here\n",
    "words = sentence.split(\" \")\n",
    "reverse = reversed(words)\n",
    "for r in reverse:\n",
    "    print(r)\n",
    "\n",
    "# Expected output:\n",
    "\n",
    "# ['Doe', 'John', 'is', 'name', 'my', 'Hello']"
   ]
  },
  {
   "cell_type": "markdown",
   "metadata": {},
   "source": [
    "### Slice\n",
    "**Task 13:** Use the ```slice``` function to display the expected output."
   ]
  },
  {
   "cell_type": "code",
   "execution_count": 51,
   "metadata": {},
   "outputs": [
    {
     "name": "stdout",
     "output_type": "stream",
     "text": [
      "ACEGI\n"
     ]
    }
   ],
   "source": [
    "alphabet = 'ABCDEFGHIJKLMNOPQRSTUVWXYZ'\n",
    "\n",
    "# Write your expected output solution here\n",
    "slicer = slice(0,9,2)\n",
    "print(alphabet[slicer])\n",
    "\n",
    "# Expected output:\n",
    "\n",
    "# ACEGI"
   ]
  },
  {
   "cell_type": "markdown",
   "metadata": {},
   "source": [
    "### Sorted\n",
    "**Task 14:** Use the ```sorted``` function to display the expected output."
   ]
  },
  {
   "cell_type": "code",
   "execution_count": 57,
   "metadata": {},
   "outputs": [
    {
     "name": "stdout",
     "output_type": "stream",
     "text": [
      "['is', 'course', 'called', 'This', 'Systems', 'Object-Oriented', 'Development']\n"
     ]
    }
   ],
   "source": [
    "sentence = 'This course is called Object-Oriented Systems Development'\n",
    "\n",
    "# Write your expected output solution here\n",
    "words = sentence.split(\" \")\n",
    "sort = sorted(words, reverse=True)\n",
    "print(sort)\n",
    "\n",
    "# Expected output:\n",
    "\n",
    "# ['is', 'course', 'called', 'This', 'Systems', 'Object-Oriented', 'Development']"
   ]
  },
  {
   "cell_type": "markdown",
   "metadata": {},
   "source": [
    "### Vars\n",
    "**Task 15:** Create a class called Person with the class attributes ```first_name```, ```last_name``` and ```age```.\n",
    "\n",
    "Use the ```Person``` object provided in the main function and the ```vars``` function to display the expected output."
   ]
  },
  {
   "cell_type": "code",
   "execution_count": 58,
   "metadata": {},
   "outputs": [
    {
     "name": "stdout",
     "output_type": "stream",
     "text": [
      "{'first_name': 'John', 'last_name': 'Doe', 'age': 35}\n"
     ]
    }
   ],
   "source": [
    "# Write your Person class solution here\n",
    "class Person:\n",
    "    def __init__(self, first_name, last_name, age):\n",
    "        self.first_name = first_name\n",
    "        self.last_name = last_name\n",
    "        self.age = age\n",
    "\n",
    "def main():\n",
    "    person = Person('John', 'Doe', 35)\n",
    "    # Write your expected output solution here\n",
    "    print(vars(person))\n",
    "\n",
    "\n",
    "if __name__ == '__main__':\n",
    "    main()\n",
    "\n",
    "# Expected output:\n",
    "\n",
    "# {'first_name': 'John', 'last_name': 'Doe', 'age': 35}"
   ]
  },
  {
   "cell_type": "markdown",
   "metadata": {},
   "source": [
    "### Zip\n",
    "**Task 16:** Use the ```zip``` function to display the expected output."
   ]
  },
  {
   "cell_type": "code",
   "execution_count": 67,
   "metadata": {},
   "outputs": [
    {
     "name": "stdout",
     "output_type": "stream",
     "text": [
      "[('Georgina Ortega', 'Australia', 'Accountant', '22'), ('Orla Mccoy', 'England', 'Nurse', '33')]\n"
     ]
    }
   ],
   "source": [
    "name = ['Georgina Ortega', 'Orla Mccoy', 'Rosa Sparks']\n",
    "nationality = ['Australia', 'England', 'New Zealand']\n",
    "occupation = ['Accountant', 'Nurse']\n",
    "age = ['22', '33', 44]\n",
    "\n",
    "# Write your expected output solution here\n",
    "people = list(zip(name,nationality,occupation,age))\n",
    "print(people)\n",
    "\n",
    "# Expected output:\n",
    "\n",
    "# [('Georgina Ortega', 'Australia', 'Accountant', '22'), ('Orla Mccoy', 'England', 'Nurse', '33')]"
   ]
  },
  {
   "cell_type": "markdown",
   "metadata": {},
   "source": [
    "# Submission\n",
    "1. Create a new branch named 02-checkpoint within your practicals GitHub repository\n",
    "2. Create a new pull request and assign Grayson-Orr to review your submission\n",
    "\n",
    "**Note:** Please don't merge your own pull request."
   ]
  }
 ],
 "metadata": {
  "kernelspec": {
   "display_name": "Python 3",
   "language": "python",
   "name": "python3"
  },
  "language_info": {
   "codemirror_mode": {
    "name": "ipython",
    "version": 3
   },
   "file_extension": ".py",
   "mimetype": "text/x-python",
   "name": "python",
   "nbconvert_exporter": "python",
   "pygments_lexer": "ipython3",
   "version": "3.7.6"
  }
 },
 "nbformat": 4,
 "nbformat_minor": 2
}
