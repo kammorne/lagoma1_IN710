{
 "cells": [
  {
   "cell_type": "markdown",
   "metadata": {},
   "source": [
    "##### College of Engineering, Construction and Living Sciences<br>Bachelor of Information Technology<br>IN710: Object-Oriented Systems Development<br>Level 7, Credits 15<br><br>Deadline: Tuesday, 24 March at 5pm\n",
    "\n",
    "# Practical 07: Factory Pattern\n",
    "\n",
    "In this practical, you will complete a series of tasks covering today's lecture. This practical is worth 1% of the final mark for the Object-Oriented Systems Development course."
   ]
  },
  {
   "cell_type": "code",
   "execution_count": null,
   "metadata": {},
   "outputs": [],
   "source": [
    "%config IPCompleter.greedy=True"
   ]
  },
  {
   "cell_type": "markdown",
   "metadata": {},
   "source": [
    "## Factory Pattern"
   ]
  },
  {
   "cell_type": "markdown",
   "metadata": {},
   "source": [
    "### Transportation\n",
    "**Task 1:**\n",
    "1. Create an interface class called `TransportationFactory` which has an abstract method called `factory_method` & class method called `delivery`. This method should call the `Transportation` subclasses `delivery` method. Remember, this class refers to a separate method to create a product object\n",
    "2. Create a class called `AirplaneFactory` which implements the `TransportationFactory` interface. This required class method returns/creates an `Airplane` object\n",
    "3. Create a class called `TrainFactory` which implements the `TransportationFactory` interface. This required class method returns/creates an `Train` object\n",
    "4. Create an interface class called `Transportation` which has an abstract method called `delivery`\n",
    "5. Create a class called `Airplane` which implements the `Transportation` interface. This required class method returns an airplane emoji - :airplane:\n",
    "6. Create a class called `Train` which implements the `Transportation` interface. This required class method returns a train emoji - :train:\n",
    "\n",
    "Resources - https://pypi.org/project/emoji/"
   ]
  },
  {
   "cell_type": "code",
   "execution_count": 6,
   "metadata": {},
   "outputs": [
    {
     "name": "stdout",
     "output_type": "stream",
     "text": [
      "Collecting emoji\n",
      "  Downloading https://files.pythonhosted.org/packages/40/8d/521be7f0091fe0f2ae690cc044faf43e3445e0ff33c574eae752dd7e39fa/emoji-0.5.4.tar.gz (43kB)\n",
      "Building wheels for collected packages: emoji\n",
      "  Building wheel for emoji (setup.py): started\n",
      "  Building wheel for emoji (setup.py): finished with status 'done'\n",
      "  Created wheel for emoji: filename=emoji-0.5.4-cp37-none-any.whl size=42181 sha256=7c6054a355717f0e7f316f6f81a6990f6b7787ffffa339d82c4f982d4e6d909c\n",
      "  Stored in directory: C:\\Users\\lagoma1\\AppData\\Local\\pip\\Cache\\wheels\\2a\\a9\\0a\\4f8e8cce8074232aba240caca3fade315bb49fac68808d1a9c\n",
      "Successfully built emoji\n",
      "Installing collected packages: emoji\n",
      "Successfully installed emoji-0.5.4\n",
      "Note: you may need to restart the kernel to use updated packages.\n"
     ]
    }
   ],
   "source": [
    "pip install emoji"
   ]
  },
  {
   "cell_type": "code",
   "execution_count": 11,
   "metadata": {},
   "outputs": [
    {
     "name": "stdout",
     "output_type": "stream",
     "text": [
      "✈\n",
      "🚆\n"
     ]
    }
   ],
   "source": [
    "from abc import ABC, abstractmethod\n",
    "from emoji import emojize\n",
    "\n",
    "\n",
    "# Write your TransportationFactory class solution here\n",
    "class TransportationFactory(ABC):\n",
    "    @abstractmethod\n",
    "    def factory_method(self):\n",
    "        raise NotImplementedError\n",
    "        \n",
    "    def delivery(self):\n",
    "        return self.factory_method().delivery()\n",
    "\n",
    "# Write your AirplaneFactory class solution here\n",
    "class AirplaneFactory(TransportationFactory):\n",
    "    def factory_method(self):\n",
    "        return Airplane()\n",
    "\n",
    "# Write your TrainFactory class solution here\n",
    "class TrainFactory(TransportationFactory):\n",
    "    def factory_method(self):\n",
    "        return Train()\n",
    "\n",
    "\n",
    "# Write your Transportation class solution here\n",
    "class Transportation(ABC):\n",
    "    @abstractmethod\n",
    "    def delivery(self):\n",
    "        raise NotImplementedError\n",
    "\n",
    "# Write your Airplane class solution here\n",
    "class Airplane(Transportation):\n",
    "    def delivery(self):\n",
    "        return emojize(':airplane:')\n",
    "\n",
    "# Write your Train class solution here\n",
    "class Train(Transportation):\n",
    "    def delivery(self):\n",
    "        return emojize(':train:')\n",
    "\n",
    "def main():\n",
    "    airplane_factory = AirplaneFactory()\n",
    "    train_factory = TrainFactory()\n",
    "    print(airplane_factory.delivery())\n",
    "    print(train_factory.delivery())\n",
    "\n",
    "\n",
    "if __name__ == '__main__':\n",
    "    main()"
   ]
  },
  {
   "cell_type": "markdown",
   "metadata": {},
   "source": [
    "### Transportation Unit Testing\n",
    "**Task 2:** For **each** method in the `TransportationFactory` & `Transportation` classes, create a unit test. Use the `TestTransportation` test case class provided to display the expected output. If you are stuck on the first two unit test, I am looking for the type of instance when the `factory_method()` is called by its factories."
   ]
  },
  {
   "cell_type": "code",
   "execution_count": 18,
   "metadata": {},
   "outputs": [
    {
     "name": "stderr",
     "output_type": "stream",
     "text": [
      "test_airplane_factory_delivery (__main__.TestTransportation) ... ok\n",
      "test_is_instance_airplane (__main__.TestTransportation) ... ok\n",
      "test_is_instance_train (__main__.TestTransportation) ... ok\n",
      "test_train_factory_delivery (__main__.TestTransportation) ... ok\n",
      "\n",
      "----------------------------------------------------------------------\n",
      "Ran 4 tests in 0.002s\n",
      "\n",
      "OK\n"
     ]
    }
   ],
   "source": [
    "from unittest import TestCase, main\n",
    "\n",
    "\n",
    "class TestTransportation(TestCase):\n",
    "    def setUp(self):\n",
    "        self.airplane_factory = AirplaneFactory()\n",
    "        self.train_factory = TrainFactory()\n",
    "\n",
    "    def test_is_instance_airplane(self):\n",
    "        isinstance(self.airplane_factory, TransportationFactory)\n",
    "\n",
    "    def test_is_instance_train(self):\n",
    "        isinstance(self.train_factory, TransportationFactory)\n",
    "\n",
    "    def test_airplane_factory_delivery(self):\n",
    "        self.assertEqual(emojize(':airplane:'), self.airplane_factory.delivery())\n",
    "\n",
    "    def test_train_factory_delivery(self):\n",
    "        self.assertEqual(emojize(':train:'), self.train_factory.delivery())\n",
    "\n",
    "    def tearDown(self):\n",
    "        self.airplane_factory = None\n",
    "        self.train_factory = None\n",
    "\n",
    "\n",
    "if __name__ == '__main__':\n",
    "    main(argv=[''], verbosity=2, exit=False)\n",
    "\n",
    "    # Expected output:\n",
    "\n",
    "    # test_airplane_factory_delivery (__main__.TestTransportation) ... ok\n",
    "    # test_is_instance_airplane (__main__.TestTransportation) ... ok\n",
    "    # test_is_instance_train (__main__.TestTransportation) ... ok\n",
    "    # test_train_factory_delivery (__main__.TestTransportation) ... ok"
   ]
  },
  {
   "cell_type": "markdown",
   "metadata": {},
   "source": [
    "# Submission\n",
    "1. Create a new branch named 07-checkpoint within your practicals GitHub repository\n",
    "2. Create a new pull request and assign Grayson-Orr to review your submission\n",
    "\n",
    "**Note:** Please don't merge your own pull request."
   ]
  }
 ],
 "metadata": {
  "kernelspec": {
   "display_name": "Python 3",
   "language": "python",
   "name": "python3"
  },
  "language_info": {
   "codemirror_mode": {
    "name": "ipython",
    "version": 3
   },
   "file_extension": ".py",
   "mimetype": "text/x-python",
   "name": "python",
   "nbconvert_exporter": "python",
   "pygments_lexer": "ipython3",
   "version": "3.7.4"
  }
 },
 "nbformat": 4,
 "nbformat_minor": 2
}
